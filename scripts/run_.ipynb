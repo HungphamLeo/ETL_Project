{
 "cells": [
  {
   "cell_type": "code",
   "execution_count": null,
   "id": "a5ae313e",
   "metadata": {},
   "outputs": [],
   "source": [
    "import os\n",
    "import sys\n",
    "PROJECT_ROOT = os.path.dirname(os.path.abspath(\"\"))\n",
    "\n",
    "if PROJECT_ROOT not in sys.path:\n",
    "    sys.path.insert(0, PROJECT_ROOT)\n",
    "from scripts.extract import WorldBankExtractOperator\n",
    "from scripts.transform import SparkTransformOperator\n",
    "from scripts.loads import DatabaseLoaderService\n",
    "from scripts.load_wbapi_etl_config import ETLPipelineConfig\n"
   ]
  },
  {
   "cell_type": "code",
   "execution_count": null,
   "id": "3d9db410",
   "metadata": {},
   "outputs": [],
   "source": []
  },
  {
   "cell_type": "code",
   "execution_count": null,
   "id": "d9a34bc5",
   "metadata": {},
   "outputs": [],
   "source": []
  },
  {
   "cell_type": "markdown",
   "id": "ee7ee7e9",
   "metadata": {},
   "source": []
  }
 ],
 "metadata": {
  "kernelspec": {
   "display_name": "Python 3",
   "language": "python",
   "name": "python3"
  },
  "language_info": {
   "codemirror_mode": {
    "name": "ipython",
    "version": 3
   },
   "file_extension": ".py",
   "mimetype": "text/x-python",
   "name": "python",
   "nbconvert_exporter": "python",
   "pygments_lexer": "ipython3",
   "version": "3.12.6"
  }
 },
 "nbformat": 4,
 "nbformat_minor": 5
}
