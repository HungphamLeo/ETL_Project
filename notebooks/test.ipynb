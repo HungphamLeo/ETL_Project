{
 "cells": [
  {
   "cell_type": "code",
   "execution_count": 1,
   "id": "5c1ef579",
   "metadata": {},
   "outputs": [
    {
     "name": "stdout",
     "output_type": "stream",
     "text": [
      "c:\\Users\\Admin\\Downloads\\Project\\Github\\ETL_Project\\notebooks\n"
     ]
    }
   ],
   "source": [
    "import wbgapi as wb   # I use wb as a namespace in all my work\n",
    "import os\n",
    "print(os.getcwd())\n",
    "import sys\n",
    "sys.path.insert(0, str(__import__('pathlib').Path().resolve().parents[[p.name for p in __import__('pathlib').Path().resolve().parents].index('ETL_Project')]))\n",
    "from models import *\n",
    "from dags.extract import wbapi_extract\n",
    "from dags.transform import wbapi_transform"
   ]
  },
  {
   "cell_type": "code",
   "execution_count": 2,
   "id": "d98f2fa0",
   "metadata": {},
   "outputs": [],
   "source": [
    "extract_obj = wbapi_extract()\n",
    "# transform_obj = wbapi_transform()\n",
    "\n"
   ]
  },
  {
   "cell_type": "code",
   "execution_count": 3,
   "id": "8f8832c8",
   "metadata": {},
   "outputs": [],
   "source": [
    "# obj_test = object.series.get_data(SeriesDataInput(id='all'))\n",
    "# print(obj_test)\n",
    "# obj_test.to_csv(path = \"\")"
   ]
  },
  {
   "cell_type": "code",
   "execution_count": 9,
   "id": "2d798bd1",
   "metadata": {},
   "outputs": [
    {
     "name": "stdout",
     "output_type": "stream",
     "text": [
      "{'EG.ELC.NUCL.ZS', 'IC.FRM.OUTG.ZS', 'TX.VAL.FUEL.ZS.UN', 'TX.VAL.MMTL.ZS.UN', 'EG.ELC.FOSL.ZS', 'NY.GDP.NGAS.RT.ZS', 'EG.ELC.NGAS.ZS', 'IC.ELC.DURS', 'EG.USE.COMM.FO.ZS', 'EG.ELC.ACCS.UR.ZS', 'NY.ADJ.DNGY.CD', 'EG.USE.COMM.GD.PP.KD', 'EG.ELC.PETR.ZS', 'TM.VAL.MMTL.ZS.UN', 'EG.USE.PCAP.KG.OE', 'EG.EGY.PRIM.PP.KD', 'EG.USE.COMM.CL.ZS', 'EG.ELC.HYRO.ZS', 'NY.GDP.TOTL.RT.ZS', 'EG.FEC.RNEW.ZS', 'NY.GDP.PETR.RT.ZS', 'EG.ELC.ACCS.RU.ZS', 'IC.FRM.BNKS.ZS', 'EG.ELC.ACCS.ZS', 'EG.ELC.RNWX.ZS', 'NY.ADJ.DRES.GN.ZS', 'EG.USE.ELEC.KH.PC', 'EG.ELC.RNEW.ZS', 'IE.PPI.ENGY.CD', 'TM.VAL.FUEL.ZS.UN', 'EG.ELC.LOSS.ZS', 'EG.IMP.CONS.ZS', 'EG.ELC.RNWX.KH', 'EG.ELC.COAL.ZS', 'NY.ADJ.DMIN.CD', 'NY.ADJ.DNGY.GN.ZS', 'EG.USE.CRNW.ZS', 'EG.GDP.PUSE.KO.PP', 'EG.GDP.PUSE.KO.PP.KD', 'NY.GDP.MINR.RT.ZS', 'NY.ADJ.DMIN.GN.ZS'}\n"
     ]
    }
   ],
   "source": [
    "obj_extract = extract_obj.topic.get_members(TopicMembersInput(id='5'))\n",
    "# obj_dataFrame_transform = transform_obj.economy.transfrom_economy_dataframe(obj_dataFrame_extract)\n",
    "print(obj_extract)\n",
    "\n",
    "\n",
    "pd.set_option('display.max_rows', None)\n",
    "pd.set_option('display.max_columns', None)\n",
    "pd.set_option('display.max_colwidth', None)  # để không cắt ngắn văn bản dài\n",
    "pd.set_option('display.expand_frame_repr', False)  # tránh wrap dòng\n",
    "\n",
    "#] ZWE \n"
   ]
  },
  {
   "cell_type": "code",
   "execution_count": 5,
   "id": "c00cee86",
   "metadata": {},
   "outputs": [],
   "source": [
    "# print(type(obj_extract.items))\n",
    "# df =pd.DataFrame(obj_extract.items)"
   ]
  },
  {
   "cell_type": "code",
   "execution_count": 6,
   "id": "3367e54f",
   "metadata": {},
   "outputs": [
    {
     "data": {
      "text/plain": [
       "{'AG.CON.FERT.PT.ZS',\n",
       " 'AG.CON.FERT.ZS',\n",
       " 'AG.LND.AGRI.K2',\n",
       " 'AG.LND.AGRI.ZS',\n",
       " 'AG.LND.ARBL.HA',\n",
       " 'AG.LND.ARBL.HA.PC',\n",
       " 'AG.LND.ARBL.ZS',\n",
       " 'AG.LND.CREL.HA',\n",
       " 'AG.LND.CROP.ZS',\n",
       " 'AG.LND.EL5M.RU.K2',\n",
       " 'AG.LND.EL5M.RU.ZS',\n",
       " 'AG.LND.FRST.K2',\n",
       " 'AG.LND.FRST.ZS',\n",
       " 'AG.LND.IRIG.AG.ZS',\n",
       " 'AG.LND.PRCP.MM',\n",
       " 'AG.LND.TOTL.K2',\n",
       " 'AG.LND.TOTL.RU.K2',\n",
       " 'AG.PRD.CREL.MT',\n",
       " 'AG.PRD.CROP.XD',\n",
       " 'AG.PRD.FOOD.XD',\n",
       " 'AG.PRD.LVSK.XD',\n",
       " 'AG.SRF.TOTL.K2',\n",
       " 'AG.YLD.CREL.KG',\n",
       " 'EG.ELC.ACCS.RU.ZS',\n",
       " 'EN.POP.EL5M.RU.ZS',\n",
       " 'ER.H2O.FWAG.ZS',\n",
       " 'NV.AGR.TOTL.CD',\n",
       " 'NV.AGR.TOTL.ZS',\n",
       " 'SL.AGR.EMPL.FE.ZS',\n",
       " 'SL.AGR.EMPL.MA.ZS',\n",
       " 'SL.AGR.EMPL.ZS',\n",
       " 'SP.RUR.TOTL',\n",
       " 'SP.RUR.TOTL.ZG',\n",
       " 'SP.RUR.TOTL.ZS',\n",
       " 'TM.VAL.AGRI.ZS.UN',\n",
       " 'TX.VAL.AGRI.ZS.UN'}"
      ]
     },
     "metadata": {},
     "output_type": "display_data"
    }
   ],
   "source": [
    "display(obj_extract)"
   ]
  },
  {
   "cell_type": "code",
   "execution_count": 7,
   "id": "d473ff3c",
   "metadata": {},
   "outputs": [],
   "source": [
    "# print(obj.metadata)\n",
    "# res = pd.DataFrame([obj.metadata])    \n",
    "# res"
   ]
  }
 ],
 "metadata": {
  "kernelspec": {
   "display_name": "Python 3",
   "language": "python",
   "name": "python3"
  },
  "language_info": {
   "codemirror_mode": {
    "name": "ipython",
    "version": 3
   },
   "file_extension": ".py",
   "mimetype": "text/x-python",
   "name": "python",
   "nbconvert_exporter": "python",
   "pygments_lexer": "ipython3",
   "version": "3.12.6"
  }
 },
 "nbformat": 4,
 "nbformat_minor": 5
}
