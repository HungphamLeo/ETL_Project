{
 "cells": [
  {
   "cell_type": "code",
   "execution_count": 1,
   "id": "5c1ef579",
   "metadata": {},
   "outputs": [
    {
     "name": "stdout",
     "output_type": "stream",
     "text": [
      "PYTHONPATH = C:/Users/Admin/Downloads/Project/Github/ETL_Project\n",
      "PYTHONPATH = C:/Users/Admin/Downloads/Project/Github/ETL_Project\n"
     ]
    }
   ],
   "source": [
    "import wbgapi as wb   # I use wb as a namespace in all my work\n",
    "import os\n",
    "print(\"PYTHONPATH =\", os.environ.get(\"PYTHONPATH\"))\n",
    "from internal.models import *\n",
    "from internal.dags.extract import wbapi_extract\n",
    "from internal.dags.transform import wbapi_transform"
   ]
  },
  {
   "cell_type": "code",
   "execution_count": 2,
   "id": "d98f2fa0",
   "metadata": {},
   "outputs": [],
   "source": [
    "extract_obj = wbapi_extract()\n",
    "transform_obj = wbapi_transform()\n",
    "\n"
   ]
  },
  {
   "cell_type": "code",
   "execution_count": 3,
   "id": "8f8832c8",
   "metadata": {},
   "outputs": [],
   "source": [
    "# obj_test = object.series.get_data(SeriesDataInput(id='all'))\n",
    "# print(obj_test)\n",
    "# obj_test.to_csv(path = \"\")"
   ]
  },
  {
   "cell_type": "code",
   "execution_count": 5,
   "id": "2d798bd1",
   "metadata": {},
   "outputs": [
    {
     "name": "stdout",
     "output_type": "stream",
     "text": [
      "0      False\n",
      "1       True\n",
      "2      False\n",
      "3       True\n",
      "4      False\n",
      "       ...  \n",
      "261    False\n",
      "262    False\n",
      "263    False\n",
      "264    False\n",
      "265    False\n",
      "Name: Aggregate, Length: 266, dtype: bool\n",
      "                    Country_Name Longitude Latitude Region Admin_Region  \\\n",
      "0                          Aruba  -70.0167  12.5167    LCN                \n",
      "1    Africa Eastern and Southern                                          \n",
      "2                    Afghanistan   69.1761  34.5228    MEA          MNA   \n",
      "3     Africa Western and Central                                          \n",
      "4                         Angola    13.242 -8.81155    SSF          SSA   \n",
      "..                           ...       ...      ...    ...          ...   \n",
      "261                       Kosovo    20.926   42.565    ECS          ECA   \n",
      "262                  Yemen, Rep.   44.2075   15.352    MEA          MNA   \n",
      "263                 South Africa   28.1871  -25.746    SSF          SSA   \n",
      "264                       Zambia   28.2937 -15.3982    SSF          SSA   \n",
      "265                     Zimbabwe   31.0672 -17.8312    SSF          SSA   \n",
      "\n",
      "    Lending_Type Income_Level Capital_Of_Country Country_ID  \n",
      "0            LNX          HIC         Oranjestad        ABW  \n",
      "1                                                       AFE  \n",
      "2            IDX          LIC              Kabul        AFG  \n",
      "3                                                       AFW  \n",
      "4            IBD          LMC             Luanda        AGO  \n",
      "..           ...          ...                ...        ...  \n",
      "261          IDX          UMC           Pristina        XKX  \n",
      "262          IDX          LIC             Sana'a        YEM  \n",
      "263          IBD          UMC           Pretoria        ZAF  \n",
      "264          IDX          LMC             Lusaka        ZMB  \n",
      "265          IDB          LMC             Harare        ZWE  \n",
      "\n",
      "[266 rows x 9 columns]\n",
      "<class 'pandas.core.frame.DataFrame'>\n"
     ]
    }
   ],
   "source": [
    "# for db in range(1, 16):\n",
    "from pyspark.sql import SparkSession\n",
    "\n",
    "spark = SparkSession.builder\n",
    "obj_extract = extract_obj.economy.dataframe_display(EconomyDataFrameInput(id='all'))\n",
    "obj_dataFrame_transform = transform_obj.economy.transform_economy_dataframe(spark = spark, df = obj_extract)\n",
    "print(obj_extract[\"Aggregate\"])\n",
    "print(obj_dataFrame_transform)\n",
    "# print(type(obj_extract))\n",
    "print(type(obj_dataFrame_transform))\n",
    "# df = obj_extract.to_frame()\n",
    "# print(df.index)\n",
    "\n",
    "pd.set_option('display.max_rows', None)\n",
    "pd.set_option('display.max_columns', None)\n",
    "pd.set_option('display.max_colwidth', None)  # để không cắt ngắn văn bản dài\n",
    "pd.set_option('display.expand_frame_repr', False)  # tránh wrap dòng\n",
    "\n"
   ]
  },
  {
   "cell_type": "code",
   "execution_count": null,
   "id": "c00cee86",
   "metadata": {},
   "outputs": [],
   "source": [
    "print(type(obj_dataFrame_transform))\n",
    "# df =pd.DataFrame(obj_extract.items)\n"
   ]
  },
  {
   "cell_type": "code",
   "execution_count": null,
   "id": "3367e54f",
   "metadata": {},
   "outputs": [],
   "source": [
    "display(obj_dataFrame_transform)"
   ]
  },
  {
   "cell_type": "code",
   "execution_count": null,
   "id": "d473ff3c",
   "metadata": {},
   "outputs": [],
   "source": [
    "# print(obj_extract.items)\n",
    "# df = pd.DataFrame(obj_extract.items)\n",
    "# df"
   ]
  }
 ],
 "metadata": {
  "kernelspec": {
   "display_name": "Python 3",
   "language": "python",
   "name": "python3"
  },
  "language_info": {
   "codemirror_mode": {
    "name": "ipython",
    "version": 3
   },
   "file_extension": ".py",
   "mimetype": "text/x-python",
   "name": "python",
   "nbconvert_exporter": "python",
   "pygments_lexer": "ipython3",
   "version": "3.12.6"
  }
 },
 "nbformat": 4,
 "nbformat_minor": 5
}
