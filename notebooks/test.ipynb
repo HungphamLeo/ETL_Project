{
 "cells": [
  {
   "cell_type": "code",
   "execution_count": 1,
   "id": "5c1ef579",
   "metadata": {},
   "outputs": [
    {
     "name": "stdout",
     "output_type": "stream",
     "text": [
      "c:\\Users\\Admin\\Downloads\\Project\\Github\\ETL_Project\\notebooks\n"
     ]
    }
   ],
   "source": [
    "import wbgapi as wb   # I use wb as a namespace in all my work\n",
    "import os\n",
    "print(os.getcwd())\n",
    "import sys\n",
    "sys.path.insert(0, str(__import__('pathlib').Path().resolve().parents[[p.name for p in __import__('pathlib').Path().resolve().parents].index('ETL_Project')]))\n",
    "from models import *\n",
    "from dags.extract import wbapi_main"
   ]
  },
  {
   "cell_type": "code",
   "execution_count": 2,
   "id": "d98f2fa0",
   "metadata": {},
   "outputs": [
    {
     "name": "stderr",
     "output_type": "stream",
     "text": [
      "{\"asctime\": \"2025-07-14 18:11:33,800\", \"levelname\": \"INFO\", \"name\": \"wbapi_series\", \"message\": \"Logging initialized for wbapi_series\"}\n",
      "{\"asctime\": \"2025-07-14 18:11:33,815\", \"levelname\": \"INFO\", \"name\": \"wbapi_economy\", \"message\": \"Logging initialized for wbapi_economy\"}\n",
      "{\"asctime\": \"2025-07-14 18:11:33,829\", \"levelname\": \"INFO\", \"name\": \"wbapi_topic\", \"message\": \"Logging initialized for wbapi_topic\"}\n"
     ]
    },
    {
     "name": "stderr",
     "output_type": "stream",
     "text": [
      "{\"asctime\": \"2025-07-14 18:11:33,838\", \"levelname\": \"INFO\", \"name\": \"wbapi_time\", \"message\": \"Logging initialized for wbapi_time\"}\n",
      "{\"asctime\": \"2025-07-14 18:11:33,850\", \"levelname\": \"INFO\", \"name\": \"wbapi_source\", \"message\": \"Logging initialized for wbapi_source\"}\n",
      "{\"asctime\": \"2025-07-14 18:11:33,860\", \"levelname\": \"INFO\", \"name\": \"wbapi_region\", \"message\": \"Logging initialized for wbapi_region\"}\n",
      "{\"asctime\": \"2025-07-14 18:11:33,871\", \"levelname\": \"INFO\", \"name\": \"wbapi_income\", \"message\": \"Logging initialized for wbapi_income\"}\n",
      "{\"asctime\": \"2025-07-14 18:11:33,883\", \"levelname\": \"INFO\", \"name\": \"wbapi_lending\", \"message\": \"Logging initialized for wbapi_lending\"}\n",
      "{\"asctime\": \"2025-07-14 18:11:33,892\", \"levelname\": \"INFO\", \"name\": \"wbgapi_main_topic\", \"message\": \"Logging initialized for wbgapi_main_topic\"}\n"
     ]
    }
   ],
   "source": [
    "object = wbapi_main()\n",
    "\n"
   ]
  },
  {
   "cell_type": "code",
   "execution_count": 3,
   "id": "2d798bd1",
   "metadata": {},
   "outputs": [
    {
     "data": {
      "text/html": [
       "<div>\n",
       "<style scoped>\n",
       "    .dataframe tbody tr th:only-of-type {\n",
       "        vertical-align: middle;\n",
       "    }\n",
       "\n",
       "    .dataframe tbody tr th {\n",
       "        vertical-align: top;\n",
       "    }\n",
       "\n",
       "    .dataframe thead th {\n",
       "        text-align: right;\n",
       "    }\n",
       "</style>\n",
       "<table border=\"1\" class=\"dataframe\">\n",
       "  <thead>\n",
       "    <tr style=\"text-align: right;\">\n",
       "      <th></th>\n",
       "      <th>ID</th>\n",
       "      <th>Value</th>\n",
       "    </tr>\n",
       "  </thead>\n",
       "  <tbody>\n",
       "    <tr>\n",
       "      <th>0</th>\n",
       "      <td>SP.POP.TOTL</td>\n",
       "      <td>Population, total</td>\n",
       "    </tr>\n",
       "  </tbody>\n",
       "</table>\n",
       "</div>"
      ],
      "text/plain": [
       "            ID              Value\n",
       "0  SP.POP.TOTL  Population, total"
      ]
     },
     "metadata": {},
     "output_type": "display_data"
    }
   ],
   "source": [
    "obj = object.series.get_data(SeriesDataInput(id='SP.POP.TOTL'))\n",
    "\n",
    "# print(obj)\n",
    "pd.set_option('display.max_rows', None)\n",
    "pd.set_option('display.max_columns', None)\n",
    "pd.set_option('display.max_colwidth', None)  # để không cắt ngắn văn bản dài\n",
    "pd.set_option('display.expand_frame_repr', False)  # tránh wrap dòng\n",
    "\n",
    "display(obj)\n",
    "# print(obj['metadata'])\n",
    "# ob =obj['metadata'].to_dict()\n",
    "# for key, value in ob.items():\n",
    "#     print(key)\n",
    "#     print(value)\n"
   ]
  },
  {
   "cell_type": "code",
   "execution_count": 4,
   "id": "d473ff3c",
   "metadata": {},
   "outputs": [],
   "source": [
    "# print(obj.columns)"
   ]
  }
 ],
 "metadata": {
  "kernelspec": {
   "display_name": "Python 3",
   "language": "python",
   "name": "python3"
  },
  "language_info": {
   "codemirror_mode": {
    "name": "ipython",
    "version": 3
   },
   "file_extension": ".py",
   "mimetype": "text/x-python",
   "name": "python",
   "nbconvert_exporter": "python",
   "pygments_lexer": "ipython3",
   "version": "3.12.6"
  }
 },
 "nbformat": 4,
 "nbformat_minor": 5
}
