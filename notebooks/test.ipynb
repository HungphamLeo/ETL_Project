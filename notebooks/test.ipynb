{
 "cells": [
  {
   "cell_type": "code",
   "execution_count": 6,
   "id": "5c1ef579",
   "metadata": {},
   "outputs": [
    {
     "name": "stdout",
     "output_type": "stream",
     "text": [
      "c:\\Users\\Admin\\Downloads\\Project\\Github\\ETL_Project\\notebooks\n"
     ]
    }
   ],
   "source": [
    "import wbgapi as wb   # I use wb as a namespace in all my work\n",
    "import os\n",
    "print(os.getcwd())\n",
    "import sys\n",
    "sys.path.insert(0, str(__import__('pathlib').Path().resolve().parents[[p.name for p in __import__('pathlib').Path().resolve().parents].index('ETL_Project')]))\n",
    "from models import *\n",
    "from dags.extract import wbapi_main"
   ]
  },
  {
   "cell_type": "code",
   "execution_count": 7,
   "id": "d98f2fa0",
   "metadata": {},
   "outputs": [],
   "source": [
    "object = wbapi_main()\n",
    "\n"
   ]
  },
  {
   "cell_type": "code",
   "execution_count": 8,
   "id": "8f8832c8",
   "metadata": {},
   "outputs": [],
   "source": [
    "# obj_test = object.series.get_data(SeriesDataInput(id='all'))\n",
    "# print(obj_test)\n",
    "# obj_test.to_csv(path = \"\")"
   ]
  },
  {
   "cell_type": "code",
   "execution_count": 9,
   "id": "2d798bd1",
   "metadata": {},
   "outputs": [
    {
     "data": {
      "text/html": [
       "<div class=\"wbgapi\"><h4>Country: USA</h4><table>\n",
       "<thead>\n",
       "<tr><th>Field                                     </th><th>Value                                                        </th></tr>\n",
       "</thead>\n",
       "<tbody>\n",
       "<tr><td>2-alphacode                               </td><td>US                                                           </td></tr>\n",
       "<tr><td>BalanceofPaymentsManualinuse              </td><td>BPM6                                                         </td></tr>\n",
       "<tr><td>CurrencyUnit                              </td><td>U.S. dollar                                                  </td></tr>\n",
       "<tr><td>GovernmentAccountingconcept               </td><td>Consolidated central government                              </td></tr>\n",
       "<tr><td>IMFdatadisseminationstandard              </td><td>Special Data Dissemination Standard Plus (SDDS Plus)         </td></tr>\n",
       "<tr><td>IncomeGroup                               </td><td>High income                                                  </td></tr>\n",
       "<tr><td>Latestagriculturalcensus                  </td><td>2012                                                         </td></tr>\n",
       "<tr><td>Latestindustrialdata                      </td><td>2011                                                         </td></tr>\n",
       "<tr><td>Latestpopulationcensus                    </td><td>2020                                                         </td></tr>\n",
       "<tr><td>Latesttradedata                           </td><td>2018                                                         </td></tr>\n",
       "<tr><td>LongName                                  </td><td>United States of America                                     </td></tr>\n",
       "<tr><td>Nationalaccountsbaseyear                  </td><td>Original chained constant price data are rescaled.           </td></tr>\n",
       "<tr><td>Nationalaccountsreferenceyear             </td><td>2017                                                         </td></tr>\n",
       "<tr><td>PPPsurveyyear                             </td><td>Rolling surveys (annual estimation)                          </td></tr>\n",
       "<tr><td>Region                                    </td><td>North America                                                </td></tr>\n",
       "<tr><td>ShortName                                 </td><td>United States                                                </td></tr>\n",
       "<tr><td>SNApricevaluation                         </td><td>Value added at basic prices (VAB)                            </td></tr>\n",
       "<tr><td>SourceofmostrecentIncomeandexpendituredata</td><td>Labor force survey (LFS), 2016                               </td></tr>\n",
       "<tr><td>SystemofNationalAccounts                  </td><td>Country uses the 2008 System of National Accounts methodology</td></tr>\n",
       "<tr><td>Systemoftrade                             </td><td>General trade system                                         </td></tr>\n",
       "<tr><td>TableName                                 </td><td>United States                                                </td></tr>\n",
       "<tr><td>Vitalregistrationcomplete                 </td><td>Yes                                                          </td></tr>\n",
       "<tr><td>WB-2code                                  </td><td>US                                                           </td></tr>\n",
       "</tbody>\n",
       "</table></div>"
      ],
      "text/plain": [
       "========\n",
       "Country: USA\n",
       "\n",
       "2-alphacode: US\n",
       "--------\n",
       "BalanceofPaymentsManualinuse: BPM6\n",
       "--------\n",
       "CurrencyUnit: U.S. dollar\n",
       "--------\n",
       "GovernmentAccountingconcept: Consolidated central government\n",
       "--------\n",
       "IMFdatadisseminationstandard: Special Data Dissemination Standard Plus (SDDS Plus)\n",
       "--------\n",
       "IncomeGroup: High income\n",
       "--------\n",
       "Latestagriculturalcensus: 2012\n",
       "--------\n",
       "Latestindustrialdata: 2011\n",
       "--------\n",
       "Latestpopulationcensus: 2020\n",
       "--------\n",
       "Latesttradedata: 2018\n",
       "--------\n",
       "LongName: United States of America\n",
       "--------\n",
       "Nationalaccountsbaseyear: Original chained constant price data are rescaled.\n",
       "--------\n",
       "Nationalaccountsreferenceyear: 2017\n",
       "--------\n",
       "PPPsurveyyear: Rolling surveys (annual estimation)\n",
       "--------\n",
       "Region: North America\n",
       "--------\n",
       "ShortName: United States\n",
       "--------\n",
       "SNApricevaluation: Value added at basic prices (VAB)\n",
       "--------\n",
       "SourceofmostrecentIncomeandexpendituredata: Labor force survey (LFS), 2016\n",
       "--------\n",
       "SystemofNationalAccounts: Country uses the 2008 System of National Accounts methodology\n",
       "--------\n",
       "Systemoftrade: General trade system\n",
       "--------\n",
       "TableName: United States\n",
       "--------\n",
       "Vitalregistrationcomplete: Yes\n",
       "--------\n",
       "WB-2code: US"
      ]
     },
     "metadata": {},
     "output_type": "display_data"
    }
   ],
   "source": [
    "obj = object.economy.get_metadata(EconomyMetadataInput(id='USA'))\n",
    "\n",
    "# print(obj)\n",
    "display(obj)\n",
    "\n",
    "pd.set_option('display.max_rows', None)\n",
    "pd.set_option('display.max_columns', None)\n",
    "pd.set_option('display.max_colwidth', None)  # để không cắt ngắn văn bản dài\n",
    "pd.set_option('display.expand_frame_repr', False)  # tránh wrap dòng\n",
    "\n",
    "#] ZWE \n"
   ]
  },
  {
   "cell_type": "code",
   "execution_count": 13,
   "id": "d473ff3c",
   "metadata": {},
   "outputs": [
    {
     "name": "stdout",
     "output_type": "stream",
     "text": [
      "{'2-alphacode': 'US', 'BalanceofPaymentsManualinuse': 'BPM6', 'CurrencyUnit': 'U.S. dollar', 'GovernmentAccountingconcept': 'Consolidated central government', 'IMFdatadisseminationstandard': 'Special Data Dissemination Standard Plus (SDDS Plus)', 'IncomeGroup': 'High income', 'Latestagriculturalcensus': '2012', 'Latestindustrialdata': '2011', 'Latestpopulationcensus': '2020', 'Latesttradedata': '2018', 'LongName': 'United States of America', 'Nationalaccountsbaseyear': 'Original chained constant price data are rescaled.', 'Nationalaccountsreferenceyear': '2017', 'PPPsurveyyear': 'Rolling surveys (annual estimation)', 'Region': 'North America', 'ShortName': 'United States', 'SNApricevaluation': 'Value added at basic prices (VAB)', 'SourceofmostrecentIncomeandexpendituredata': 'Labor force survey (LFS), 2016', 'SystemofNationalAccounts': 'Country uses the 2008 System of National Accounts methodology', 'Systemoftrade': 'General trade system', 'TableName': 'United States', 'Vitalregistrationcomplete': 'Yes', 'WB-2code': 'US'}\n"
     ]
    },
    {
     "data": {
      "text/html": [
       "<div>\n",
       "<style scoped>\n",
       "    .dataframe tbody tr th:only-of-type {\n",
       "        vertical-align: middle;\n",
       "    }\n",
       "\n",
       "    .dataframe tbody tr th {\n",
       "        vertical-align: top;\n",
       "    }\n",
       "\n",
       "    .dataframe thead th {\n",
       "        text-align: right;\n",
       "    }\n",
       "</style>\n",
       "<table border=\"1\" class=\"dataframe\">\n",
       "  <thead>\n",
       "    <tr style=\"text-align: right;\">\n",
       "      <th></th>\n",
       "      <th>2-alphacode</th>\n",
       "      <th>BalanceofPaymentsManualinuse</th>\n",
       "      <th>CurrencyUnit</th>\n",
       "      <th>GovernmentAccountingconcept</th>\n",
       "      <th>IMFdatadisseminationstandard</th>\n",
       "      <th>IncomeGroup</th>\n",
       "      <th>Latestagriculturalcensus</th>\n",
       "      <th>Latestindustrialdata</th>\n",
       "      <th>Latestpopulationcensus</th>\n",
       "      <th>Latesttradedata</th>\n",
       "      <th>LongName</th>\n",
       "      <th>Nationalaccountsbaseyear</th>\n",
       "      <th>Nationalaccountsreferenceyear</th>\n",
       "      <th>PPPsurveyyear</th>\n",
       "      <th>Region</th>\n",
       "      <th>ShortName</th>\n",
       "      <th>SNApricevaluation</th>\n",
       "      <th>SourceofmostrecentIncomeandexpendituredata</th>\n",
       "      <th>SystemofNationalAccounts</th>\n",
       "      <th>Systemoftrade</th>\n",
       "      <th>TableName</th>\n",
       "      <th>Vitalregistrationcomplete</th>\n",
       "      <th>WB-2code</th>\n",
       "    </tr>\n",
       "  </thead>\n",
       "  <tbody>\n",
       "    <tr>\n",
       "      <th>0</th>\n",
       "      <td>US</td>\n",
       "      <td>BPM6</td>\n",
       "      <td>U.S. dollar</td>\n",
       "      <td>Consolidated central government</td>\n",
       "      <td>Special Data Dissemination Standard Plus (SDDS Plus)</td>\n",
       "      <td>High income</td>\n",
       "      <td>2012</td>\n",
       "      <td>2011</td>\n",
       "      <td>2020</td>\n",
       "      <td>2018</td>\n",
       "      <td>United States of America</td>\n",
       "      <td>Original chained constant price data are rescaled.</td>\n",
       "      <td>2017</td>\n",
       "      <td>Rolling surveys (annual estimation)</td>\n",
       "      <td>North America</td>\n",
       "      <td>United States</td>\n",
       "      <td>Value added at basic prices (VAB)</td>\n",
       "      <td>Labor force survey (LFS), 2016</td>\n",
       "      <td>Country uses the 2008 System of National Accounts methodology</td>\n",
       "      <td>General trade system</td>\n",
       "      <td>United States</td>\n",
       "      <td>Yes</td>\n",
       "      <td>US</td>\n",
       "    </tr>\n",
       "  </tbody>\n",
       "</table>\n",
       "</div>"
      ],
      "text/plain": [
       "  2-alphacode BalanceofPaymentsManualinuse CurrencyUnit      GovernmentAccountingconcept                          IMFdatadisseminationstandard  IncomeGroup Latestagriculturalcensus Latestindustrialdata Latestpopulationcensus Latesttradedata                  LongName                            Nationalaccountsbaseyear Nationalaccountsreferenceyear                        PPPsurveyyear         Region      ShortName                  SNApricevaluation SourceofmostrecentIncomeandexpendituredata                                       SystemofNationalAccounts         Systemoftrade      TableName Vitalregistrationcomplete WB-2code\n",
       "0          US                         BPM6  U.S. dollar  Consolidated central government  Special Data Dissemination Standard Plus (SDDS Plus)  High income                     2012                 2011                   2020            2018  United States of America  Original chained constant price data are rescaled.                          2017  Rolling surveys (annual estimation)  North America  United States  Value added at basic prices (VAB)             Labor force survey (LFS), 2016  Country uses the 2008 System of National Accounts methodology  General trade system  United States                       Yes       US"
      ]
     },
     "execution_count": 13,
     "metadata": {},
     "output_type": "execute_result"
    }
   ],
   "source": [
    "print(obj.metadata)\n",
    "res = pd.DataFrame([obj.metadata])    \n",
    "res"
   ]
  }
 ],
 "metadata": {
  "kernelspec": {
   "display_name": "Python 3",
   "language": "python",
   "name": "python3"
  },
  "language_info": {
   "codemirror_mode": {
    "name": "ipython",
    "version": 3
   },
   "file_extension": ".py",
   "mimetype": "text/x-python",
   "name": "python",
   "nbconvert_exporter": "python",
   "pygments_lexer": "ipython3",
   "version": "3.12.6"
  }
 },
 "nbformat": 4,
 "nbformat_minor": 5
}
