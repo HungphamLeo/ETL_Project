{
 "cells": [
  {
   "cell_type": "code",
   "execution_count": 1,
   "id": "5c1ef579",
   "metadata": {},
   "outputs": [
    {
     "name": "stdout",
     "output_type": "stream",
     "text": [
      "c:\\Users\\Admin\\Downloads\\Project\\Github\\ETL_Project\\notebooks\n"
     ]
    }
   ],
   "source": [
    "import wbgapi as wb   # I use wb as a namespace in all my work\n",
    "import os\n",
    "print(os.getcwd())\n",
    "import sys\n",
    "sys.path.insert(0, str(__import__('pathlib').Path().resolve().parents[[p.name for p in __import__('pathlib').Path().resolve().parents].index('ETL_Project')]))\n",
    "from models import *\n",
    "from dags.extract import wbapi_main"
   ]
  },
  {
   "cell_type": "code",
   "execution_count": 2,
   "id": "770f7494",
   "metadata": {},
   "outputs": [],
   "source": [
    "# log = setup_logging(__name__, 'test.log', level='DEBUG')"
   ]
  },
  {
   "cell_type": "code",
   "execution_count": 3,
   "id": "2657dfc0",
   "metadata": {},
   "outputs": [],
   "source": [
    "# class wbgapi_main_topic:\n",
    "#     def __init__(self):\n",
    "#         self.series = wb.series\n",
    "#         self.economy = wb.economy\n",
    "#         self.topic = wb.topic\n",
    "#         self.time = wb.time\n",
    "#         self.source = wb.source\n",
    "#         self.region = wb.region\n",
    "#         self.income = wb.income\n",
    "#         self.lending = wb.lending\n",
    "#         self.data = wb.data\n",
    "\n",
    "# class wbapi_series:\n",
    "#     def __init__(self):\n",
    "#         self.series = wb.series\n",
    "#         self.metadata = self.manage_metadata()\n",
    "\n",
    "#     class manage_metadata:\n",
    "#         def __init__(self):\n",
    "#             self.series_metadata = wb.series.metadata\n",
    "        \n",
    "#         def get_series_metadata(id: str, economic: str = None, time: str = None, db = None):\n",
    "#             \"\"\"\n",
    "#             Returns metadata for a specific series.\n",
    "#             \"\"\"\n",
    "#             response = wb.series.metadata.get(id, economic=economic, time=time, db=db)\n",
    "#             return response\n",
    "\n",
    "#         def fetch_series_metadata(id: str, economic: str = None, time: str = None, db = None):\n",
    "#             \"\"\"\n",
    "#             Returns metadata for a specific series.\n",
    "#             \"\"\"\n",
    "#             response = wb.series.metadata.fetch(id, economic=economic, time=time, db=db)\n",
    "#             return response\n",
    "        \n",
    "#     def get_list(self, id: str = \"all\", q = None, topic = None, db = None):\n",
    "#         \"\"\"\n",
    "#         Returns a list of all available series.\n",
    "#         \"\"\"\n",
    "#         return self.series.list(id,q,topic,db)\n",
    "    \n",
    "#     def get_info(self, id: str = \"all\", q = None, topic = None, db = None):\n",
    "#         \"\"\"\n",
    "#         Returns information about a specific series.\n",
    "#         result with 2 columns: id and value\n",
    "#         \"\"\"\n",
    "#         response =  self.series.info(id, q, topic, db)\n",
    "#         return response\n",
    "    \n",
    "#     def get_data(self, id, db):\n",
    "#         \"\"\"\n",
    "#         Returns data for a specific series.\n",
    "#         \"\"\"\n",
    "#         response =  self.series.get(id, db)\n",
    "#         return response\n",
    "    \n",
    "\n",
    "#     def get_series(self, id: str = \"all\", q = None, topic = None, db = None, name = \"SeriesName\"):\n",
    "#         \"\"\"\n",
    "#         Returns information about a specific series.\n",
    "#         result with 2 columns: id and value\n",
    "#         \"\"\"\n",
    "#         response =  self.series.Series(id, q, topic, db, name)\n",
    "#         return response\n",
    "    \n",
    "    \n",
    "        \n"
   ]
  },
  {
   "cell_type": "code",
   "execution_count": 4,
   "id": "0110b395",
   "metadata": {},
   "outputs": [],
   "source": [
    "# wb.series.list()\n",
    "# wb.series.info()\n",
    "# wb.series.get()\n",
    "# ob = wb.series.Series(id =\"AG.CON.FERT.PT.ZS\")\n",
    "# print(ob[0])\n",
    "# print(len(ob))\n",
    "# wb.series.metadata.get(id = \"AG.CON.FERT.PT.ZS\")\n",
    "# wb.series.metadata.fetch(id = \"AG.CON.FERT.PT.ZS\")\n",
    "# def get_series_metadata(id: str, economic: str = None, time: str = None, db = None):\n",
    "#     \"\"\"\n",
    "#     Returns metadata for a specific series.\n",
    "#     \"\"\"\n",
    "#     response = wb.series.metadata.get(id, economic=economic, time=time, db=db)\n",
    "#     return response\n",
    "\n",
    "# def get_series_metadata(id: str, economic: str = None, time: str = None, db = None):\n",
    "#     \"\"\"\n",
    "#     Returns metadata for a specific series.\n",
    "#     \"\"\"\n",
    "#     response = wb.series.metadata.fetch(id, economic=economic, time=time, db=db)\n",
    "#     return response\n",
    "\n"
   ]
  },
  {
   "cell_type": "code",
   "execution_count": 5,
   "id": "b0fd9ef7",
   "metadata": {},
   "outputs": [],
   "source": [
    "# class wbapi_economy:\n",
    "#     def __init__(self):\n",
    "#         self.economy = wb.economy\n",
    "\n",
    "\n",
    "# class wbapi_topic:\n",
    "#     def __init__(self):\n",
    "#         self.topic = wb.topic\n",
    "\n",
    "\n",
    "# class wbapi_time:\n",
    "#     def __init__(self):\n",
    "#         self.time = wb.time\n",
    "\n",
    "\n",
    "# class wbapi_source:\n",
    "#     def __init__(self):\n",
    "#         self.source = wb.source\n",
    "\n",
    "# class wbapi_region:\n",
    "#     def __init__(self):\n",
    "#         self.region = wb.region\n",
    "\n",
    "# class wbapi_income:\n",
    "#     def __init__(self):\n",
    "#         self.income = wb.income\n",
    "\n",
    "# class wbapi_lending:\n",
    "#     def __init__(self):\n",
    "#         self.lending = wb.lending"
   ]
  },
  {
   "cell_type": "code",
   "execution_count": 6,
   "id": "909a171b",
   "metadata": {},
   "outputs": [],
   "source": [
    "# wb.economy.list(id) # id='all', q=None, labels=False, skipAggs=False, db=None\n",
    "\n",
    "# wb.economy.info() # id='all',q=None, skipAggs=False, db=None\n",
    "# wb.economy.get() # id,labels=False, db=None\n",
    "# wb.economy.Series()# id='all', q=None, skipAggs=False, db=None, name='EconomyName'\n",
    "# wb.economy.metadata.get() # id,series=[], db=None\n",
    "# wb.economy.metadata.fetch() # id,series=[],db=None\n",
    "\n"
   ]
  },
  {
   "cell_type": "code",
   "execution_count": 7,
   "id": "94ecc37b",
   "metadata": {},
   "outputs": [],
   "source": [
    "# wb.topic.list() # id='all', q=None\n",
    "\n",
    "# wb.topic.info() # id='all',q=None\n",
    "# wb.topic.get() # id\n",
    "# wb.topic.Series()# id='all', q=None, name='TopicName'\n",
    "# wb.topic.members() # id\n"
   ]
  },
  {
   "cell_type": "code",
   "execution_count": 8,
   "id": "f84042f9",
   "metadata": {},
   "outputs": [],
   "source": [
    "# wb.time.list() # id='all', q=None\n",
    "\n",
    "# wb.time.info() # id='all', q=None, db=None\n",
    "# wb.time.get() # id,db=None\n",
    "# wb.time.Series()# id='all', q=None, db=None, name='TimePeriodName'\n",
    "# wb.time.periods() #db=None\n"
   ]
  },
  {
   "cell_type": "code",
   "execution_count": 9,
   "id": "7fb7e908",
   "metadata": {},
   "outputs": [],
   "source": [
    "# wb.source.list() # id='all', q=None\n",
    "\n",
    "# wb.source.info() # id='all',q=None\n",
    "# wb.source.get() # db=None\n",
    "# wb.source.Series()# id='all', q=None, name='SourceName'\n",
    "# wb.source.has_metadata() # db=None\n",
    "# wb.source.concepts() # db=None\n",
    "# wb.source.feature() #concept, id, db=None\n",
    "# wb.source.features() # concept, id='all', db=None"
   ]
  },
  {
   "cell_type": "code",
   "execution_count": 10,
   "id": "61c877bb",
   "metadata": {},
   "outputs": [],
   "source": [
    "# wb.region.list(id) # id='all', q=None, group=None\n",
    "\n",
    "# wb.region.info() # id='all', q=None, group=None\n",
    "# wb.region.get() # id\n",
    "# wb.region.Series()# id='all', q=None, group=None, name='RegionName'\n",
    "# wb.region.members() # id, param='region'\n",
    "\n",
    "\n"
   ]
  },
  {
   "cell_type": "code",
   "execution_count": 11,
   "id": "72e9917e",
   "metadata": {},
   "outputs": [],
   "source": [
    "\n",
    "\n",
    "# wb.income.list(id) # id='all', q=None\n",
    "\n",
    "# wb.income.info() # id='all', q=None\n",
    "# wb.income.get() # id\n",
    "# wb.income.Series()# id='all', q=None, name='IncomeGroupName'\n",
    "# wb.income.members() # id\n",
    "\n"
   ]
  },
  {
   "cell_type": "code",
   "execution_count": 12,
   "id": "ea15f9dc",
   "metadata": {},
   "outputs": [],
   "source": [
    "# wb.lending.list(id) # id='all', q=None\n",
    "\n",
    "# wb.lending.info() # id='all', q=None\n",
    "# wb.lending.get() # id\n",
    "# wb.lending.Series()# id='all', q=None, name='LendingGroupName'\n",
    "# wb.lending.members() # id\n",
    "\n"
   ]
  },
  {
   "cell_type": "code",
   "execution_count": 13,
   "id": "d98f2fa0",
   "metadata": {},
   "outputs": [
    {
     "name": "stderr",
     "output_type": "stream",
     "text": [
      "{\"asctime\": \"2025-07-14 17:57:03,452\", \"levelname\": \"INFO\", \"name\": \"wbapi_series\", \"message\": \"Logging initialized for wbapi_series\"}\n",
      "{\"asctime\": \"2025-07-14 17:57:03,463\", \"levelname\": \"INFO\", \"name\": \"wbapi_economy\", \"message\": \"Logging initialized for wbapi_economy\"}\n"
     ]
    },
    {
     "name": "stderr",
     "output_type": "stream",
     "text": [
      "{\"asctime\": \"2025-07-14 17:57:03,478\", \"levelname\": \"INFO\", \"name\": \"wbapi_topic\", \"message\": \"Logging initialized for wbapi_topic\"}\n",
      "{\"asctime\": \"2025-07-14 17:57:03,489\", \"levelname\": \"INFO\", \"name\": \"wbapi_time\", \"message\": \"Logging initialized for wbapi_time\"}\n",
      "{\"asctime\": \"2025-07-14 17:57:03,502\", \"levelname\": \"INFO\", \"name\": \"wbapi_source\", \"message\": \"Logging initialized for wbapi_source\"}\n",
      "{\"asctime\": \"2025-07-14 17:57:03,512\", \"levelname\": \"INFO\", \"name\": \"wbapi_region\", \"message\": \"Logging initialized for wbapi_region\"}\n",
      "{\"asctime\": \"2025-07-14 17:57:03,526\", \"levelname\": \"INFO\", \"name\": \"wbapi_income\", \"message\": \"Logging initialized for wbapi_income\"}\n",
      "{\"asctime\": \"2025-07-14 17:57:03,537\", \"levelname\": \"INFO\", \"name\": \"wbapi_lending\", \"message\": \"Logging initialized for wbapi_lending\"}\n",
      "{\"asctime\": \"2025-07-14 17:57:03,551\", \"levelname\": \"INFO\", \"name\": \"wbgapi_main_topic\", \"message\": \"Logging initialized for wbgapi_main_topic\"}\n"
     ]
    }
   ],
   "source": [
    "object = wbapi_main()\n",
    "\n"
   ]
  },
  {
   "cell_type": "code",
   "execution_count": 14,
   "id": "2d798bd1",
   "metadata": {},
   "outputs": [
    {
     "name": "stdout",
     "output_type": "stream",
     "text": [
      "<class 'pandas.core.frame.DataFrame'>\n",
      "                  id                                              value\n",
      "0  AG.CON.FERT.PT.ZS  Fertilizer consumption (% of fertilizer produc...\n"
     ]
    },
    {
     "data": {
      "text/html": [
       "<div>\n",
       "<style scoped>\n",
       "    .dataframe tbody tr th:only-of-type {\n",
       "        vertical-align: middle;\n",
       "    }\n",
       "\n",
       "    .dataframe tbody tr th {\n",
       "        vertical-align: top;\n",
       "    }\n",
       "\n",
       "    .dataframe thead th {\n",
       "        text-align: right;\n",
       "    }\n",
       "</style>\n",
       "<table border=\"1\" class=\"dataframe\">\n",
       "  <thead>\n",
       "    <tr style=\"text-align: right;\">\n",
       "      <th></th>\n",
       "      <th>ID</th>\n",
       "      <th>Value</th>\n",
       "    </tr>\n",
       "  </thead>\n",
       "  <tbody>\n",
       "    <tr>\n",
       "      <th>0</th>\n",
       "      <td>AG.CON.FERT.PT.ZS</td>\n",
       "      <td>Fertilizer consumption (% of fertilizer production)</td>\n",
       "    </tr>\n",
       "  </tbody>\n",
       "</table>\n",
       "</div>"
      ],
      "text/plain": [
       "                  ID                                                Value\n",
       "0  AG.CON.FERT.PT.ZS  Fertilizer consumption (% of fertilizer production)"
      ]
     },
     "metadata": {},
     "output_type": "display_data"
    }
   ],
   "source": [
    "\n",
    "obj = object.series.get_info(SeriesInfoInput(id='AG.CON.FERT.PT.ZS'))\n",
    "\n",
    "# print(obj)\n",
    "pd.set_option('display.max_rows', None)\n",
    "pd.set_option('display.max_columns', None)\n",
    "pd.set_option('display.max_colwidth', None)  # để không cắt ngắn văn bản dài\n",
    "pd.set_option('display.expand_frame_repr', False)  # tránh wrap dòng\n",
    "\n",
    "display(obj)\n",
    "# print(obj['metadata'])\n",
    "# ob =obj['metadata'].to_dict()\n",
    "# for key, value in ob.items():\n",
    "#     print(key)\n",
    "#     print(value)\n"
   ]
  },
  {
   "cell_type": "code",
   "execution_count": 15,
   "id": "d473ff3c",
   "metadata": {},
   "outputs": [],
   "source": [
    "# print(obj.columns)"
   ]
  }
 ],
 "metadata": {
  "kernelspec": {
   "display_name": "Python 3",
   "language": "python",
   "name": "python3"
  },
  "language_info": {
   "codemirror_mode": {
    "name": "ipython",
    "version": 3
   },
   "file_extension": ".py",
   "mimetype": "text/x-python",
   "name": "python",
   "nbconvert_exporter": "python",
   "pygments_lexer": "ipython3",
   "version": "3.12.6"
  }
 },
 "nbformat": 4,
 "nbformat_minor": 5
}
